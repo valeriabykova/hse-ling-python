{
 "cells": [
  {
   "cell_type": "markdown",
   "metadata": {},
   "source": [
    "# Домашняя работа № 2\n",
    "### студентки БКЛ-213 Быковой Валерии"
   ]
  },
  {
   "cell_type": "markdown",
   "metadata": {},
   "source": [
    "## Задание 1\n",
    "Предварительная обработка 11 книжек Александра Беляева."
   ]
  },
  {
   "cell_type": "code",
   "execution_count": 1,
   "metadata": {},
   "outputs": [],
   "source": [
    "# импортирую модуль os для того, чтобы считать все из папки с книжками\n",
    "import os"
   ]
  },
  {
   "cell_type": "markdown",
   "metadata": {},
   "source": [
    "Считываю в список тексты всех книжек."
   ]
  },
  {
   "cell_type": "code",
   "execution_count": 2,
   "metadata": {},
   "outputs": [],
   "source": [
    "all_books = []\n",
    "path = \"./books/\"\n",
    "for el in os.listdir(path):\n",
    "    if os.path.isfile(path + \"/\" + el) and el[0] != \".\":\n",
    "        with open(path + \"/\" + el, \"r\", encoding=\"utf-8\") as f:\n",
    "            data = f.read()\n",
    "            all_books.append(data)"
   ]
  },
  {
   "cell_type": "markdown",
   "metadata": {},
   "source": [
    "Импортирую Mystem для обработки текста. "
   ]
  },
  {
   "cell_type": "code",
   "execution_count": 3,
   "metadata": {},
   "outputs": [],
   "source": [
    "from pymystem3 import Mystem"
   ]
  },
  {
   "cell_type": "markdown",
   "metadata": {},
   "source": [
    "Создаю экземпляр класса Mystem."
   ]
  },
  {
   "cell_type": "code",
   "execution_count": 4,
   "metadata": {},
   "outputs": [],
   "source": [
    "m = Mystem()"
   ]
  },
  {
   "cell_type": "code",
   "execution_count": 5,
   "metadata": {},
   "outputs": [],
   "source": [
    "from tqdm import tqdm"
   ]
  },
  {
   "cell_type": "markdown",
   "metadata": {},
   "source": [
    "Привожу все тексты к лемматизированному виду, записываю их в один файл для удобства работы."
   ]
  },
  {
   "cell_type": "code",
   "execution_count": 6,
   "metadata": {},
   "outputs": [
    {
     "name": "stderr",
     "output_type": "stream",
     "text": [
      "100%|██████████| 11/11 [00:16<00:00,  1.50s/it]\n"
     ]
    }
   ],
   "source": [
    "with open(\"book_lemmas.txt\", \"w\", encoding=\"UTF-8\") as f:\n",
    "    for text in tqdm(all_books):\n",
    "        lemmas = m.lemmatize(text)\n",
    "        for lemma in lemmas:\n",
    "            f.write(lemma)"
   ]
  },
  {
   "cell_type": "markdown",
   "metadata": {},
   "source": [
    "Импортирую nltk, его инструменты и стоп-слова для очистки текста и записи по предложениям. Импортирую pymorphy"
   ]
  },
  {
   "cell_type": "code",
   "execution_count": 7,
   "metadata": {},
   "outputs": [],
   "source": [
    "import nltk"
   ]
  },
  {
   "cell_type": "code",
   "execution_count": 8,
   "metadata": {},
   "outputs": [],
   "source": [
    "from nltk.tokenize import sent_tokenize, word_tokenize"
   ]
  },
  {
   "cell_type": "code",
   "execution_count": 9,
   "metadata": {},
   "outputs": [
    {
     "name": "stderr",
     "output_type": "stream",
     "text": [
      "[nltk_data] Downloading package stopwords to\n",
      "[nltk_data]     /Users/valeriabykova/nltk_data...\n",
      "[nltk_data]   Package stopwords is already up-to-date!\n"
     ]
    }
   ],
   "source": [
    "nltk.download(\"stopwords\")\n",
    "sw = nltk.corpus.stopwords.words(\"russian\")"
   ]
  },
  {
   "cell_type": "code",
   "execution_count": 10,
   "metadata": {},
   "outputs": [],
   "source": [
    "from pymorphy2 import MorphAnalyzer\n",
    "\n",
    "morph = MorphAnalyzer()"
   ]
  },
  {
   "cell_type": "markdown",
   "metadata": {},
   "source": [
    "Создаю функцию, которая решает, оставлять ли слово в тексте"
   ]
  },
  {
   "cell_type": "code",
   "execution_count": 11,
   "metadata": {},
   "outputs": [],
   "source": [
    "def to_leave(word: str):\n",
    "    word = word.lower()\n",
    "    if not word.isalpha():\n",
    "        return False\n",
    "    if word in sw:\n",
    "        return False\n",
    "    stop_pos = {\"PREP\", \"CONJ\", \"PRCL\", \"INTJ\", \"NPRO\"}\n",
    "    ana = morph.parse(word)\n",
    "    first = ana[0]\n",
    "    if first.tag.POS in stop_pos:\n",
    "        return False\n",
    "    return True"
   ]
  },
  {
   "cell_type": "markdown",
   "metadata": {},
   "source": [
    "Токенизирую, очищаю от стоп-слов и не-слов, записываю в список"
   ]
  },
  {
   "cell_type": "code",
   "execution_count": 12,
   "metadata": {},
   "outputs": [
    {
     "name": "stderr",
     "output_type": "stream",
     "text": [
      "100%|██████████| 41331/41331 [00:01<00:00, 21710.41it/s]\n",
      "100%|██████████| 41331/41331 [00:16<00:00, 2471.55it/s]\n"
     ]
    }
   ],
   "source": [
    "with open(\"book_lemmas.txt\", \"r\", encoding=\"utf-8\") as file:\n",
    "    text = file.read()\n",
    "splited_text = []\n",
    "sep_sentences = [word_tokenize(t) for t in tqdm(sent_tokenize(text))]\n",
    "for el in tqdm(sep_sentences):\n",
    "    tokenized_text = [w.lower() for w in el if to_leave(w)]\n",
    "    splited_text.append(tokenized_text)"
   ]
  },
  {
   "cell_type": "markdown",
   "metadata": {},
   "source": [
    "Из списка записываю в читаемый моделью формат файла"
   ]
  },
  {
   "cell_type": "code",
   "execution_count": 13,
   "metadata": {},
   "outputs": [],
   "source": [
    "with open(\"final_text.txt\", \"w\", encoding=\"utf-8\") as file:\n",
    "    for sentence in splited_text:\n",
    "        line = \" \".join(sentence) + \"\\n\"\n",
    "        file.write(line)"
   ]
  },
  {
   "cell_type": "markdown",
   "metadata": {},
   "source": [
    "## Задание 2."
   ]
  },
  {
   "cell_type": "markdown",
   "metadata": {},
   "source": [
    "Импортирую модули для работы с моделью"
   ]
  },
  {
   "cell_type": "code",
   "execution_count": 14,
   "metadata": {},
   "outputs": [
    {
     "name": "stdout",
     "output_type": "stream",
     "text": [
      "\u001b[33mDEPRECATION: Configuring installation scheme with distutils config files is deprecated and will no longer work in the near future. If you are using a Homebrew or Linuxbrew Python, please see discussion at https://github.com/Homebrew/homebrew-core/issues/76621\u001b[0m\u001b[33m\n",
      "\u001b[0mRequirement already satisfied: gensim in /opt/homebrew/lib/python3.9/site-packages (4.2.0)\n",
      "Requirement already satisfied: numpy>=1.17.0 in /opt/homebrew/lib/python3.9/site-packages (from gensim) (1.22.4)\n",
      "Requirement already satisfied: smart-open>=1.8.1 in /opt/homebrew/lib/python3.9/site-packages (from gensim) (6.2.0)\n",
      "Requirement already satisfied: scipy>=0.18.1 in /opt/homebrew/lib/python3.9/site-packages (from gensim) (1.9.2)\n",
      "\u001b[33mDEPRECATION: Configuring installation scheme with distutils config files is deprecated and will no longer work in the near future. If you are using a Homebrew or Linuxbrew Python, please see discussion at https://github.com/Homebrew/homebrew-core/issues/76621\u001b[0m\u001b[33m\n",
      "\u001b[0m\u001b[33mWARNING: There was an error checking the latest version of pip.\u001b[0m\u001b[33m\n",
      "\u001b[0m"
     ]
    }
   ],
   "source": [
    "!pip3 install gensim"
   ]
  },
  {
   "cell_type": "code",
   "execution_count": 15,
   "metadata": {},
   "outputs": [],
   "source": [
    "import gensim\n",
    "import logging\n",
    "\n",
    "import warnings\n",
    "\n",
    "warnings.filterwarnings(\"ignore\")"
   ]
  },
  {
   "cell_type": "markdown",
   "metadata": {},
   "source": [
    "Формирую лог действий, чтобы отслеживать происходящее."
   ]
  },
  {
   "cell_type": "code",
   "execution_count": 16,
   "metadata": {},
   "outputs": [],
   "source": [
    "logging.basicConfig(\n",
    "    format=\"%(asctime)s : %(levelname)s : %(message)s\", level=logging.INFO\n",
    ")"
   ]
  },
  {
   "cell_type": "markdown",
   "metadata": {},
   "source": [
    "Даю модели файл в нужном формате на вход."
   ]
  },
  {
   "cell_type": "code",
   "execution_count": 78,
   "metadata": {},
   "outputs": [],
   "source": [
    "f = \"final_text.txt\"\n",
    "data = gensim.models.word2vec.LineSentence(f)"
   ]
  },
  {
   "cell_type": "markdown",
   "metadata": {},
   "source": [
    "1. Обучаю модель с нужными параметрами."
   ]
  },
  {
   "cell_type": "code",
   "execution_count": 79,
   "metadata": {},
   "outputs": [
    {
     "name": "stderr",
     "output_type": "stream",
     "text": [
      "2022-11-14 21:32:20,870 : INFO : collecting all words and their counts\n",
      "2022-11-14 21:32:20,872 : INFO : PROGRESS: at sentence #0, processed 0 words, keeping 0 word types\n",
      "2022-11-14 21:32:20,894 : INFO : PROGRESS: at sentence #10000, processed 63811 words, keeping 9841 word types\n",
      "2022-11-14 21:32:20,914 : INFO : PROGRESS: at sentence #20000, processed 122542 words, keeping 13149 word types\n",
      "2022-11-14 21:32:20,934 : INFO : PROGRESS: at sentence #30000, processed 182147 words, keeping 15990 word types\n",
      "2022-11-14 21:32:20,953 : INFO : PROGRESS: at sentence #40000, processed 239070 words, keeping 18220 word types\n",
      "2022-11-14 21:32:20,954 : INFO : collected 18295 word types from a corpus of 242235 raw words and 40482 sentences\n",
      "2022-11-14 21:32:20,955 : INFO : Creating a fresh vocabulary\n",
      "2022-11-14 21:32:20,967 : INFO : Word2Vec lifecycle event {'msg': 'effective_min_count=5 retains 6653 unique words (36.37% of original 18295, drops 11642)', 'datetime': '2022-11-14T21:32:20.967436', 'gensim': '4.2.0', 'python': '3.9.13 (main, May 24 2022, 21:13:51) \\n[Clang 13.1.6 (clang-1316.0.21.2)]', 'platform': 'macOS-12.3.1-arm64-arm-64bit', 'event': 'prepare_vocab'}\n",
      "2022-11-14 21:32:20,967 : INFO : Word2Vec lifecycle event {'msg': 'effective_min_count=5 leaves 221510 word corpus (91.44% of original 242235, drops 20725)', 'datetime': '2022-11-14T21:32:20.967824', 'gensim': '4.2.0', 'python': '3.9.13 (main, May 24 2022, 21:13:51) \\n[Clang 13.1.6 (clang-1316.0.21.2)]', 'platform': 'macOS-12.3.1-arm64-arm-64bit', 'event': 'prepare_vocab'}\n",
      "2022-11-14 21:32:20,982 : INFO : deleting the raw counts dictionary of 18295 items\n",
      "2022-11-14 21:32:20,983 : INFO : sample=0.001 downsamples 22 most-common words\n",
      "2022-11-14 21:32:20,983 : INFO : Word2Vec lifecycle event {'msg': 'downsampling leaves estimated 215104.74329422635 word corpus (97.1%% of prior 221510)', 'datetime': '2022-11-14T21:32:20.983784', 'gensim': '4.2.0', 'python': '3.9.13 (main, May 24 2022, 21:13:51) \\n[Clang 13.1.6 (clang-1316.0.21.2)]', 'platform': 'macOS-12.3.1-arm64-arm-64bit', 'event': 'prepare_vocab'}\n",
      "2022-11-14 21:32:21,010 : INFO : estimated required memory for 6653 words and 300 dimensions: 19293700 bytes\n",
      "2022-11-14 21:32:21,011 : INFO : resetting layer weights\n",
      "2022-11-14 21:32:21,020 : INFO : Word2Vec lifecycle event {'update': False, 'trim_rule': 'None', 'datetime': '2022-11-14T21:32:21.020022', 'gensim': '4.2.0', 'python': '3.9.13 (main, May 24 2022, 21:13:51) \\n[Clang 13.1.6 (clang-1316.0.21.2)]', 'platform': 'macOS-12.3.1-arm64-arm-64bit', 'event': 'build_vocab'}\n",
      "2022-11-14 21:32:21,020 : INFO : Word2Vec lifecycle event {'msg': 'training model with 3 workers on 6653 vocabulary and 300 features, using sg=0 hs=0 sample=0.001 negative=5 window=5 shrink_windows=True', 'datetime': '2022-11-14T21:32:21.020447', 'gensim': '4.2.0', 'python': '3.9.13 (main, May 24 2022, 21:13:51) \\n[Clang 13.1.6 (clang-1316.0.21.2)]', 'platform': 'macOS-12.3.1-arm64-arm-64bit', 'event': 'train'}\n",
      "2022-11-14 21:32:21,181 : INFO : EPOCH 0: training on 242235 raw words (215096 effective words) took 0.2s, 1354315 effective words/s\n",
      "2022-11-14 21:32:21,343 : INFO : EPOCH 1: training on 242235 raw words (215108 effective words) took 0.2s, 1331283 effective words/s\n",
      "2022-11-14 21:32:21,749 : INFO : EPOCH 2: training on 242235 raw words (215016 effective words) took 0.4s, 531582 effective words/s\n",
      "2022-11-14 21:32:21,915 : INFO : EPOCH 3: training on 242235 raw words (215071 effective words) took 0.2s, 1297043 effective words/s\n",
      "2022-11-14 21:32:22,087 : INFO : EPOCH 4: training on 242235 raw words (215021 effective words) took 0.2s, 1260299 effective words/s\n",
      "2022-11-14 21:32:22,249 : INFO : EPOCH 5: training on 242235 raw words (215094 effective words) took 0.2s, 1334153 effective words/s\n",
      "2022-11-14 21:32:22,517 : INFO : EPOCH 6: training on 242235 raw words (215087 effective words) took 0.3s, 804372 effective words/s\n",
      "2022-11-14 21:32:22,688 : INFO : EPOCH 7: training on 242235 raw words (215175 effective words) took 0.2s, 1267809 effective words/s\n",
      "2022-11-14 21:32:22,851 : INFO : EPOCH 8: training on 242235 raw words (215079 effective words) took 0.2s, 1327012 effective words/s\n",
      "2022-11-14 21:32:23,011 : INFO : EPOCH 9: training on 242235 raw words (215044 effective words) took 0.2s, 1354371 effective words/s\n",
      "2022-11-14 21:32:23,271 : INFO : EPOCH 10: training on 242235 raw words (214997 effective words) took 0.3s, 829759 effective words/s\n",
      "2022-11-14 21:32:23,442 : INFO : EPOCH 11: training on 242235 raw words (215103 effective words) took 0.2s, 1263273 effective words/s\n",
      "2022-11-14 21:32:23,605 : INFO : EPOCH 12: training on 242235 raw words (215106 effective words) took 0.2s, 1326060 effective words/s\n",
      "2022-11-14 21:32:23,767 : INFO : EPOCH 13: training on 242235 raw words (215031 effective words) took 0.2s, 1334014 effective words/s\n",
      "2022-11-14 21:32:24,044 : INFO : EPOCH 14: training on 242235 raw words (215111 effective words) took 0.3s, 843111 effective words/s\n",
      "2022-11-14 21:32:24,206 : INFO : EPOCH 15: training on 242235 raw words (215032 effective words) took 0.2s, 1334663 effective words/s\n",
      "2022-11-14 21:32:24,367 : INFO : EPOCH 16: training on 242235 raw words (215159 effective words) took 0.2s, 1344646 effective words/s\n",
      "2022-11-14 21:32:24,522 : INFO : EPOCH 17: training on 242235 raw words (215190 effective words) took 0.2s, 1392445 effective words/s\n",
      "2022-11-14 21:32:24,796 : INFO : EPOCH 18: training on 242235 raw words (215055 effective words) took 0.3s, 844998 effective words/s\n",
      "2022-11-14 21:32:24,960 : INFO : EPOCH 19: training on 242235 raw words (215146 effective words) took 0.2s, 1316451 effective words/s\n",
      "2022-11-14 21:32:25,120 : INFO : EPOCH 20: training on 242235 raw words (215085 effective words) took 0.2s, 1356479 effective words/s\n",
      "2022-11-14 21:32:25,284 : INFO : EPOCH 21: training on 242235 raw words (215177 effective words) took 0.1s, 1474727 effective words/s\n",
      "2022-11-14 21:32:25,543 : INFO : EPOCH 22: training on 242235 raw words (215143 effective words) took 0.3s, 832198 effective words/s\n",
      "2022-11-14 21:32:25,703 : INFO : EPOCH 23: training on 242235 raw words (215081 effective words) took 0.2s, 1358557 effective words/s\n",
      "2022-11-14 21:32:25,862 : INFO : EPOCH 24: training on 242235 raw words (215097 effective words) took 0.1s, 1529392 effective words/s\n",
      "2022-11-14 21:32:26,020 : INFO : EPOCH 25: training on 242235 raw words (215098 effective words) took 0.2s, 1370917 effective words/s\n",
      "2022-11-14 21:32:26,278 : INFO : EPOCH 26: training on 242235 raw words (215175 effective words) took 0.3s, 835420 effective words/s\n",
      "2022-11-14 21:32:26,433 : INFO : EPOCH 27: training on 242235 raw words (214988 effective words) took 0.2s, 1396533 effective words/s\n",
      "2022-11-14 21:32:26,595 : INFO : EPOCH 28: training on 242235 raw words (215080 effective words) took 0.2s, 1331082 effective words/s\n",
      "2022-11-14 21:32:26,757 : INFO : EPOCH 29: training on 242235 raw words (215024 effective words) took 0.2s, 1334888 effective words/s\n",
      "2022-11-14 21:32:27,026 : INFO : EPOCH 30: training on 242235 raw words (215149 effective words) took 0.3s, 804934 effective words/s\n",
      "2022-11-14 21:32:27,186 : INFO : EPOCH 31: training on 242235 raw words (215079 effective words) took 0.2s, 1350401 effective words/s\n",
      "2022-11-14 21:32:27,344 : INFO : EPOCH 32: training on 242235 raw words (215109 effective words) took 0.2s, 1369875 effective words/s\n",
      "2022-11-14 21:32:27,501 : INFO : EPOCH 33: training on 242235 raw words (215166 effective words) took 0.2s, 1377412 effective words/s\n",
      "2022-11-14 21:32:27,765 : INFO : EPOCH 34: training on 242235 raw words (215063 effective words) took 0.3s, 816676 effective words/s\n",
      "2022-11-14 21:32:27,930 : INFO : EPOCH 35: training on 242235 raw words (215126 effective words) took 0.2s, 1315588 effective words/s\n",
      "2022-11-14 21:32:28,092 : INFO : EPOCH 36: training on 242235 raw words (215026 effective words) took 0.2s, 1335584 effective words/s\n",
      "2022-11-14 21:32:28,255 : INFO : EPOCH 37: training on 242235 raw words (215151 effective words) took 0.2s, 1320645 effective words/s\n",
      "2022-11-14 21:32:28,533 : INFO : EPOCH 38: training on 242235 raw words (215147 effective words) took 0.3s, 776792 effective words/s\n",
      "2022-11-14 21:32:28,706 : INFO : EPOCH 39: training on 242235 raw words (215179 effective words) took 0.2s, 1254459 effective words/s\n",
      "2022-11-14 21:32:28,874 : INFO : EPOCH 40: training on 242235 raw words (215148 effective words) took 0.2s, 1287594 effective words/s\n",
      "2022-11-14 21:32:29,034 : INFO : EPOCH 41: training on 242235 raw words (215145 effective words) took 0.2s, 1348214 effective words/s\n",
      "2022-11-14 21:32:29,295 : INFO : EPOCH 42: training on 242235 raw words (215117 effective words) took 0.3s, 828888 effective words/s\n",
      "2022-11-14 21:32:29,452 : INFO : EPOCH 43: training on 242235 raw words (215113 effective words) took 0.2s, 1370558 effective words/s\n",
      "2022-11-14 21:32:29,609 : INFO : EPOCH 44: training on 242235 raw words (215155 effective words) took 0.2s, 1381537 effective words/s\n",
      "2022-11-14 21:32:29,775 : INFO : EPOCH 45: training on 242235 raw words (215158 effective words) took 0.2s, 1305585 effective words/s\n",
      "2022-11-14 21:32:30,032 : INFO : EPOCH 46: training on 242235 raw words (215017 effective words) took 0.3s, 839686 effective words/s\n",
      "2022-11-14 21:32:30,200 : INFO : EPOCH 47: training on 242235 raw words (215097 effective words) took 0.2s, 1290419 effective words/s\n",
      "2022-11-14 21:32:30,364 : INFO : EPOCH 48: training on 242235 raw words (215047 effective words) took 0.2s, 1320044 effective words/s\n",
      "2022-11-14 21:32:30,568 : INFO : EPOCH 49: training on 242235 raw words (215071 effective words) took 0.2s, 1056728 effective words/s\n",
      "2022-11-14 21:32:30,569 : INFO : Word2Vec lifecycle event {'msg': 'training on 12111750 raw words (10754932 effective words) took 9.5s, 1126324 effective words/s', 'datetime': '2022-11-14T21:32:30.569078', 'gensim': '4.2.0', 'python': '3.9.13 (main, May 24 2022, 21:13:51) \\n[Clang 13.1.6 (clang-1316.0.21.2)]', 'platform': 'macOS-12.3.1-arm64-arm-64bit', 'event': 'train'}\n",
      "2022-11-14 21:32:30,569 : INFO : Word2Vec lifecycle event {'params': 'Word2Vec<vocab=6653, vector_size=300, alpha=0.025>', 'datetime': '2022-11-14T21:32:30.569260', 'gensim': '4.2.0', 'python': '3.9.13 (main, May 24 2022, 21:13:51) \\n[Clang 13.1.6 (clang-1316.0.21.2)]', 'platform': 'macOS-12.3.1-arm64-arm-64bit', 'event': 'created'}\n"
     ]
    }
   ],
   "source": [
    "model = gensim.models.Word2Vec(\n",
    "    data,\n",
    "    vector_size=300,\n",
    "    window=5,\n",
    "    min_count=5,\n",
    "    epochs=50)"
   ]
  },
  {
   "cell_type": "markdown",
   "metadata": {},
   "source": [
    "2. Размер получившейся модели."
   ]
  },
  {
   "cell_type": "code",
   "execution_count": 80,
   "metadata": {},
   "outputs": [
    {
     "data": {
      "text/plain": [
       "'Размер модели: 6653 слова'"
      ]
     },
     "execution_count": 80,
     "metadata": {},
     "output_type": "execute_result"
    }
   ],
   "source": [
    "f\"Размер модели: {len(model.wv.key_to_index)} слова\""
   ]
  },
  {
   "cell_type": "markdown",
   "metadata": {},
   "source": [
    "3. 10 самых близких слов к имени персонажа _Ариэль_."
   ]
  },
  {
   "cell_type": "code",
   "execution_count": 20,
   "metadata": {},
   "outputs": [
    {
     "name": "stdout",
     "output_type": "stream",
     "text": [
      "шарада\n",
      "пирс\n",
      "раджа\n",
      "мохит\n",
      "джейн\n",
      "шьям\n",
      "лолита\n",
      "цыпленок\n",
      "раджин\n",
      "летать\n"
     ]
    }
   ],
   "source": [
    "for el, st in model.wv.most_similar(\"ариэль\", topn=10):\n",
    "    print(el)"
   ]
  },
  {
   "cell_type": "markdown",
   "metadata": {},
   "source": [
    "10 самых близких слов к абстрактному понятию _смерть_."
   ]
  },
  {
   "cell_type": "code",
   "execution_count": 21,
   "metadata": {},
   "outputs": [
    {
     "name": "stdout",
     "output_type": "stream",
     "text": [
      "гибель\n",
      "лгать\n",
      "герой\n",
      "удушье\n",
      "внезапный\n",
      "обреченный\n",
      "ложь\n",
      "разорение\n",
      "обрекать\n",
      "мучительный\n"
     ]
    }
   ],
   "source": [
    "for el, st in model.wv.most_similar(\"смерть\", topn=10):\n",
    "    print(el)"
   ]
  },
  {
   "cell_type": "markdown",
   "metadata": {},
   "source": [
    "10 самых близких слов к антонимам _низкий_ и _высокий_."
   ]
  },
  {
   "cell_type": "code",
   "execution_count": 22,
   "metadata": {},
   "outputs": [
    {
     "name": "stdout",
     "output_type": "stream",
     "text": [
      "средний\n",
      "градус\n",
      "одинаковый\n",
      "ровный\n",
      "температура\n",
      "направо\n",
      "ступень\n",
      "метеор\n",
      "тембр\n",
      "рост\n"
     ]
    }
   ],
   "source": [
    "for el, st in model.wv.most_similar(\"низкий\", topn=10):\n",
    "    print(el)"
   ]
  },
  {
   "cell_type": "code",
   "execution_count": 23,
   "metadata": {},
   "outputs": [
    {
     "name": "stdout",
     "output_type": "stream",
     "text": [
      "сложенный\n",
      "каста\n",
      "отделять\n",
      "наблюдательный\n",
      "эффектный\n",
      "кактус\n",
      "подножие\n",
      "возвышаться\n",
      "низкий\n",
      "цветной\n"
     ]
    }
   ],
   "source": [
    "for el, st in model.wv.most_similar(\"высокий\", topn=10):\n",
    "    print(el)"
   ]
  },
  {
   "cell_type": "markdown",
   "metadata": {},
   "source": [
    "5. Найдем лишнее слово из ряда.\n",
    "Здесь модель справляется."
   ]
  },
  {
   "cell_type": "code",
   "execution_count": 24,
   "metadata": {},
   "outputs": [
    {
     "name": "stdout",
     "output_type": "stream",
     "text": [
      "Лишнее слово – еда.\n"
     ]
    }
   ],
   "source": [
    "extra = model.wv.doesnt_match(\"ненависть смерть грусть еда\".split())\n",
    "print(f\"Лишнее слово – {extra}.\")"
   ]
  },
  {
   "cell_type": "markdown",
   "metadata": {},
   "source": [
    "## Задание 3.1."
   ]
  },
  {
   "cell_type": "markdown",
   "metadata": {},
   "source": [
    "Импортируем модули для загрузки модели. WGET закомментирован, так как строка, использующая его, тоже закомментирована, а flake8 ругается."
   ]
  },
  {
   "cell_type": "code",
   "execution_count": 25,
   "metadata": {},
   "outputs": [],
   "source": [
    "import zipfile\n",
    "# import wget"
   ]
  },
  {
   "cell_type": "markdown",
   "metadata": {},
   "source": [
    "Скачиваем модель (сама загрузка закомментирована, так как ноутбук выполнялся больше одного раза.)"
   ]
  },
  {
   "cell_type": "code",
   "execution_count": 71,
   "metadata": {},
   "outputs": [
    {
     "name": "stderr",
     "output_type": "stream",
     "text": [
      "2022-11-14 21:29:54,526 : INFO : loading projection weights from model.bin\n",
      "2022-11-14 21:29:55,530 : INFO : KeyedVectors lifecycle event {'msg': 'loaded (249333, 300) matrix of type float32 from model.bin', 'binary': True, 'encoding': 'utf8', 'datetime': '2022-11-14T21:29:55.530102', 'gensim': '4.2.0', 'python': '3.9.13 (main, May 24 2022, 21:13:51) \\n[Clang 13.1.6 (clang-1316.0.21.2)]', 'platform': 'macOS-12.3.1-arm64-arm-64bit', 'event': 'load_word2vec_format'}\n"
     ]
    }
   ],
   "source": [
    "model_url = \"http://vectors.nlpl.eu/repository/20/220.zip\"\n",
    "# m = wget.download(model_url)\n",
    "model_file = model_url.split(\"/\")[-1]\n",
    "with zipfile.ZipFile(model_file, \"r\") as archive:\n",
    "    archive.extractall()\n",
    "    model_1 = gensim \\\n",
    "        .models \\\n",
    "        .KeyedVectors \\\n",
    "        .load_word2vec_format(\"model.bin\", binary=True)"
   ]
  },
  {
   "cell_type": "markdown",
   "metadata": {},
   "source": [
    "Решение семантической пропорции: жена - женщина + мужчина = муж. Ответ модели верный."
   ]
  },
  {
   "cell_type": "code",
   "execution_count": 65,
   "metadata": {},
   "outputs": [
    {
     "name": "stdout",
     "output_type": "stream",
     "text": [
      "муж_NOUN\n"
     ]
    }
   ],
   "source": [
    "print(\n",
    "    model_1.most_similar(\n",
    "        positive=[\"жена_NOUN\", \"мужчина_NOUN\"], negative=[\"женщина_NOUN\"]\n",
    "    )[0][0]\n",
    ")"
   ]
  },
  {
   "cell_type": "markdown",
   "metadata": {},
   "source": [
    "Устанавливаем matplotlib для визуализации."
   ]
  },
  {
   "cell_type": "code",
   "execution_count": 28,
   "metadata": {},
   "outputs": [
    {
     "name": "stdout",
     "output_type": "stream",
     "text": [
      "\u001b[33mDEPRECATION: Configuring installation scheme with distutils config files is deprecated and will no longer work in the near future. If you are using a Homebrew or Linuxbrew Python, please see discussion at https://github.com/Homebrew/homebrew-core/issues/76621\u001b[0m\u001b[33m\n",
      "\u001b[0mRequirement already satisfied: matplotlib in /opt/homebrew/lib/python3.9/site-packages (3.6.2)\n",
      "Requirement already satisfied: kiwisolver>=1.0.1 in /opt/homebrew/lib/python3.9/site-packages (from matplotlib) (1.4.4)\n",
      "Requirement already satisfied: pillow>=6.2.0 in /opt/homebrew/lib/python3.9/site-packages (from matplotlib) (9.3.0)\n",
      "Requirement already satisfied: pyparsing>=2.2.1 in /opt/homebrew/lib/python3.9/site-packages (from matplotlib) (3.0.9)\n",
      "Requirement already satisfied: cycler>=0.10 in /opt/homebrew/lib/python3.9/site-packages (from matplotlib) (0.11.0)\n",
      "Requirement already satisfied: numpy>=1.19 in /opt/homebrew/lib/python3.9/site-packages (from matplotlib) (1.22.4)\n",
      "Requirement already satisfied: packaging>=20.0 in /opt/homebrew/lib/python3.9/site-packages (from matplotlib) (21.3)\n",
      "Requirement already satisfied: fonttools>=4.22.0 in /opt/homebrew/lib/python3.9/site-packages (from matplotlib) (4.38.0)\n",
      "Requirement already satisfied: contourpy>=1.0.1 in /opt/homebrew/lib/python3.9/site-packages (from matplotlib) (1.0.6)\n",
      "Requirement already satisfied: python-dateutil>=2.7 in /opt/homebrew/lib/python3.9/site-packages (from matplotlib) (2.8.2)\n",
      "Requirement already satisfied: six>=1.5 in /opt/homebrew/lib/python3.9/site-packages (from python-dateutil>=2.7->matplotlib) (1.16.0)\n",
      "\u001b[33mDEPRECATION: Configuring installation scheme with distutils config files is deprecated and will no longer work in the near future. If you are using a Homebrew or Linuxbrew Python, please see discussion at https://github.com/Homebrew/homebrew-core/issues/76621\u001b[0m\u001b[33m\n",
      "\u001b[0m\u001b[33mWARNING: There was an error checking the latest version of pip.\u001b[0m\u001b[33m\n",
      "\u001b[0m"
     ]
    }
   ],
   "source": [
    "!pip3 install matplotlib"
   ]
  },
  {
   "cell_type": "markdown",
   "metadata": {},
   "source": [
    "Импортируем средства для работы с PCA и визуализацией."
   ]
  },
  {
   "cell_type": "code",
   "execution_count": 29,
   "metadata": {},
   "outputs": [],
   "source": [
    "from sklearn.decomposition import PCA\n",
    "import matplotlib.pyplot as plt"
   ]
  },
  {
   "cell_type": "code",
   "execution_count": 66,
   "metadata": {},
   "outputs": [],
   "source": [
    "words = [\n",
    "    \"кошка_NOUN\",\n",
    "    \"собака_NOUN\",\n",
    "    \"корова_NOUN\",\n",
    "    \"бык_NOUN\",\n",
    "    \"индюк_NOUN\",\n",
    "    \"тигр_NOUN\",\n",
    "    \"волк_NOUN\",\n",
    "]\n",
    "X = model_1[words]\n",
    "pca = PCA(n_components=2)\n",
    "coords = pca.fit_transform(X)"
   ]
  },
  {
   "cell_type": "markdown",
   "metadata": {},
   "source": [
    "Строим график. Вышло в целом логично: кошка и собака рядом, волк и тигр как дикие животные – рядом, корова ближе всего к быку."
   ]
  },
  {
   "cell_type": "code",
   "execution_count": 67,
   "metadata": {},
   "outputs": [
    {
     "data": {
      "image/png": "[encoded data removed]",
      "text/plain": [
       "<Figure size 1080x360 with 1 Axes>"
      ]
     },
     "metadata": {
      "needs_background": "light"
     },
     "output_type": "display_data"
    }
   ],
   "source": [
    "plt.figure(figsize=(15, 5))\n",
    "plt.scatter(coords[:, 0], coords[:, 1], color=\"green\")\n",
    "plt.title(\"Слова\")\n",
    "\n",
    "for i, word in enumerate(words):\n",
    "    word_show = word.split(sep=\"_\")[0]\n",
    "    t, y = coords[i, 0], coords[i, 1]\n",
    "    plt.annotate(word_show, xy=(t, y), xytext=(t + 0.1, y))\n",
    "plt.show()"
   ]
  },
  {
   "cell_type": "markdown",
   "metadata": {},
   "source": [
    "Заменим в предложении все не стоп-слова на ближайших соседей."
   ]
  },
  {
   "cell_type": "code",
   "execution_count": 88,
   "metadata": {},
   "outputs": [],
   "source": [
    "s = \"\"\"\n",
    "Я зашел в кафе, съел два бутерброда с ветчиной и теперь тянул коньяк,\n",
    "запивая его  кофе.\n",
    "\"\"\""
   ]
  },
  {
   "cell_type": "code",
   "execution_count": 89,
   "metadata": {},
   "outputs": [],
   "source": [
    "lemmas_s = m.lemmatize(s)\n",
    "tokenized_s = [w.lower() for w in lemmas_s if to_leave(w)]"
   ]
  },
  {
   "cell_type": "code",
   "execution_count": 105,
   "metadata": {},
   "outputs": [
    {
     "name": "stdout",
     "output_type": "stream",
     "text": [
      "('заходить_VERB', 0.7825347185134888)\n",
      "('ресторан_NOUN', 0.8710845708847046)\n",
      "('съесть_VERB', 0.7796281576156616)\n",
      "('пирожок_NOUN', 0.7043185234069824)\n",
      "('сосиска_NOUN', 0.7305837273597717)\n",
      "('потянуть_VERB', 0.7400533556938171)\n",
      "('бренди_NOUN', 0.7616719007492065)\n",
      "('выпивать_VERB', 0.7006803750991821)\n",
      "('чай_NOUN', 0.8139259815216064)\n"
     ]
    }
   ],
   "source": [
    "for word in tokenized_s:\n",
    "    ana = morph.parse(word)\n",
    "    first = ana[0]\n",
    "    word_tag = word + '_' + str(first.tag).split(sep=',')[0]\n",
    "    if 'INFN' in word_tag:\n",
    "        word_tag = word_tag.replace('INFN', 'VERB')\n",
    "    if word_tag in model_1.key_to_index:\n",
    "        print(model_1.most_similar(word_tag)[0])\n",
    "    else:\n",
    "        print(word_tag)"
   ]
  },
  {
   "cell_type": "markdown",
   "metadata": {},
   "source": [
    "Ответ на задание: Я заходил в ресторан, съел два пирожка с сосиской, и теперь потянул бренди, выпивая чай.\n",
    "\n",
    "Получилось не очень грамматично, потому что инфинитивы глаголов _съел_ и _тянул_ определены неправильно."
   ]
  },
  {
   "cell_type": "markdown",
   "metadata": {},
   "source": [
    "## Задание 3.2."
   ]
  },
  {
   "cell_type": "markdown",
   "metadata": {},
   "source": [
    "Выполняем предобработку текста. Выделяем из самих статей в html только текст без тегов, исключаем числа, стоп-слова (из nltk и по части речи)."
   ]
  },
  {
   "cell_type": "code",
   "execution_count": 32,
   "metadata": {},
   "outputs": [],
   "source": [
    "from bs4 import BeautifulSoup\n",
    "import requests"
   ]
  },
  {
   "cell_type": "code",
   "execution_count": 33,
   "metadata": {},
   "outputs": [],
   "source": [
    "with open('links.txt', 'r', encoding='utf-8') as file:\n",
    "    links = file.read()"
   ]
  },
  {
   "cell_type": "code",
   "execution_count": 34,
   "metadata": {},
   "outputs": [
    {
     "name": "stderr",
     "output_type": "stream",
     "text": [
      "100%|██████████| 20/20 [00:23<00:00,  1.17s/it]\n"
     ]
    }
   ],
   "source": [
    "articles = []\n",
    "article_names = []\n",
    "for link in tqdm(links.split(sep='\\n')):\n",
    "    *_, name = link.split('/')\n",
    "    text = requests.get(link).text\n",
    "    html = BeautifulSoup(text)\n",
    "    text = \"\\n\".join(p.text for p in html.find_all('p'))\n",
    "    lemmas_par = m.lemmatize(text)\n",
    "    tokenized_par = [w.lower() for w in lemmas_par if to_leave(w)]\n",
    "    tokenized_par = ' '.join(tokenized_par)\n",
    "    articles.append(tokenized_par)\n",
    "    article_names.append(name)"
   ]
  },
  {
   "cell_type": "markdown",
   "metadata": {},
   "source": [
    "Импортируем средство для работы с tf-idf."
   ]
  },
  {
   "cell_type": "code",
   "execution_count": 35,
   "metadata": {},
   "outputs": [],
   "source": [
    "from sklearn.feature_extraction.text import TfidfVectorizer"
   ]
  },
  {
   "cell_type": "markdown",
   "metadata": {},
   "source": [
    "Запускаем tf-idf с нужными параметрами."
   ]
  },
  {
   "cell_type": "code",
   "execution_count": 36,
   "metadata": {},
   "outputs": [],
   "source": [
    "tfidf = TfidfVectorizer(\n",
    "    analyzer=\"word\",\n",
    "    ngram_range=(1, 3),\n",
    "    min_df=3\n",
    ")"
   ]
  },
  {
   "cell_type": "markdown",
   "metadata": {},
   "source": [
    "Проверяем, что обработано нужное количество документов."
   ]
  },
  {
   "cell_type": "code",
   "execution_count": 37,
   "metadata": {},
   "outputs": [
    {
     "name": "stdout",
     "output_type": "stream",
     "text": [
      "Матрица на 20     документов и 4708     термов\n"
     ]
    }
   ],
   "source": [
    "articles_tfidf = tfidf.fit_transform(articles)\n",
    "print(\n",
    "    f\"Матрица на {articles_tfidf.shape[0]} \\\n",
    "    документов и {articles_tfidf.shape[1]} \\\n",
    "    термов\"\n",
    ")"
   ]
  },
  {
   "cell_type": "markdown",
   "metadata": {},
   "source": [
    "Импортируем numpy для работы с tf-idf."
   ]
  },
  {
   "cell_type": "code",
   "execution_count": 38,
   "metadata": {},
   "outputs": [],
   "source": [
    "import numpy as np"
   ]
  },
  {
   "cell_type": "markdown",
   "metadata": {},
   "source": [
    "Функция для получения топа слов для каждой статьи."
   ]
  },
  {
   "cell_type": "code",
   "execution_count": 39,
   "metadata": {},
   "outputs": [],
   "source": [
    "def get_top_tf_idf_words(tfidf_vector, feature_names, top_n):\n",
    "    sorted_nzs = np.argsort(tfidf_vector.data)[:-(top_n+1):-1]\n",
    "    return feature_names[tfidf_vector.indices[sorted_nzs]]"
   ]
  },
  {
   "cell_type": "markdown",
   "metadata": {},
   "source": [
    "Выводим топ-5 слов для каждой статьи. Результаты вышли ожидаемыми, они соотносятся с текстом статей."
   ]
  },
  {
   "cell_type": "code",
   "execution_count": 40,
   "metadata": {},
   "outputs": [
    {
     "name": "stdout",
     "output_type": "stream",
     "text": [
      "Топ-5 слов для статьи Токио: год, столица, японский, япония, город.\n",
      "Топ-5 слов для статьи Москва: москва, год, московский, город, тысяча.\n",
      "Топ-5 слов для статьи Златоуст: год, город, завод, область, уральский.\n",
      "Топ-5 слов для статьи Россия: россия, год, российский, страна, тыс.\n",
      "Топ-5 слов для статьи Германия: германия, год, земля, немой, федеральный.\n",
      "Топ-5 слов для статьи Соединённые_Штаты_Америки: сша, штат, год, страна, соединять.\n",
      "Топ-5 слов для статьи Суахили: класс, язык, in, арабский, показатель.\n",
      "Топ-5 слов для статьи Эсперанто: язык, год, международный, интернет, la.\n",
      "Топ-5 слов для статьи Татарский_язык: язык, гласный, казанский, диалект, литературный.\n",
      "Топ-5 слов для статьи Великая_французская_революция: король, год, сословие, париж, фр.\n",
      "Топ-5 слов для статьи Франция: франция, год, французский, страна, париж.\n",
      "Топ-5 слов для статьи Торонто: город, канада, год, метро, канадский.\n",
      "Топ-5 слов для статьи Аддис-Абеба: город, эфиопия, год, столица, мэр.\n",
      "Топ-5 слов для статьи Амхарский_язык: амхарский, язык, эфиопия, эфиопский, язык являться.\n",
      "Топ-5 слов для статьи Сомали: сомали, год, эфиопия, страна, основной.\n",
      "Топ-5 слов для статьи Могадишо: год, город, сомали, теракт, эфиоп.\n",
      "Топ-5 слов для статьи Норвежский_язык: норвегия, язык, диалект, письменный, год.\n",
      "Топ-5 слов для статьи Великая_депрессия: год, депрессия, сша, банк, который.\n",
      "Топ-5 слов для статьи Октябрьская_революция: большевик, совет, правительство, съезд, революция.\n",
      "Топ-5 слов для статьи Гражданская_война_в_России: армия, большевик, красный, белый, год.\n"
     ]
    }
   ],
   "source": [
    "feature_names = np.array(tfidf.get_feature_names())\n",
    "\n",
    "for i, article in enumerate(articles):\n",
    "    article_vector = articles_tfidf[i, :]\n",
    "    words = get_top_tf_idf_words(article_vector, feature_names, 5)\n",
    "    print_words = ', '.join(words)\n",
    "    print(f'Топ-5 слов для статьи {article_names[i]}: {print_words}.')"
   ]
  },
  {
   "cell_type": "markdown",
   "metadata": {},
   "source": [
    "Понижаем размерность с помощью PCA. При этом переводим `articles_tfidf` из sparsed в dense, так как PCA этого требует."
   ]
  },
  {
   "cell_type": "code",
   "execution_count": 41,
   "metadata": {},
   "outputs": [],
   "source": [
    "visual = PCA(2).fit_transform(articles_tfidf.todense())"
   ]
  },
  {
   "cell_type": "markdown",
   "metadata": {},
   "source": [
    "С помощью matplotlib строю график. Получается не очень красиво из-за длинных названий статей, но в материалах визуализируют так же. Нагуглить что-то красивое именно для таких графиков не вышло. Визуализация вышла ожидаемой: по группам собрались языки, города, страны и исторические события. Выбивается только \"Великая депрессия\", которая ближе к странам, а не к событиям."
   ]
  },
  {
   "cell_type": "code",
   "execution_count": 42,
   "metadata": {},
   "outputs": [
    {
     "data": {
      "image/png": "[encoded data removed]",
      "text/plain": [
       "<Figure size 1440x1440 with 1 Axes>"
      ]
     },
     "metadata": {
      "needs_background": "light"
     },
     "output_type": "display_data"
    }
   ],
   "source": [
    "plt.figure(figsize=(20, 20))\n",
    "plt.scatter(visual[:, 0], visual[:, 1])\n",
    "for i, name in enumerate(article_names):\n",
    "    t, y = visual[i, 0], visual[i, 1]\n",
    "    plt.annotate(name, xy=(t, y), xytext=(t, y))\n",
    "plt.show()"
   ]
  },
  {
   "cell_type": "markdown",
   "metadata": {},
   "source": [
    "## 4 задание "
   ]
  },
  {
   "cell_type": "markdown",
   "metadata": {},
   "source": [
    "1. Я подавала в функцию текст уже без чисел, убирая их при лемматизации. Тем не менее, можно задать регулярное выражение внутри token_pattern, чтобы оно не учитывало цифры."
   ]
  },
  {
   "cell_type": "code",
   "execution_count": 43,
   "metadata": {},
   "outputs": [],
   "source": [
    "tfidf_test = TfidfVectorizer(\n",
    "    analyzer=\"word\",\n",
    "    ngram_range=(1, 1),\n",
    "    min_df=1,\n",
    "    token_pattern=r'[^\\d ]+'\n",
    ")"
   ]
  },
  {
   "cell_type": "markdown",
   "metadata": {},
   "source": [
    "Создаем список, который хотим очистить от чисел."
   ]
  },
  {
   "cell_type": "code",
   "execution_count": 44,
   "metadata": {},
   "outputs": [],
   "source": [
    "data = ['1 собака', '15 кошек', 'стол', '9 песик']"
   ]
  },
  {
   "cell_type": "markdown",
   "metadata": {},
   "source": [
    "Учим на новых данных."
   ]
  },
  {
   "cell_type": "code",
   "execution_count": 45,
   "metadata": {},
   "outputs": [
    {
     "data": {
      "text/plain": [
       "<4x4 sparse matrix of type '<class 'numpy.float64'>'\n",
       "\twith 4 stored elements in Compressed Sparse Row format>"
      ]
     },
     "execution_count": 45,
     "metadata": {},
     "output_type": "execute_result"
    }
   ],
   "source": [
    "tfidf_test.fit_transform(data)"
   ]
  },
  {
   "cell_type": "markdown",
   "metadata": {},
   "source": [
    "Выводим результат."
   ]
  },
  {
   "cell_type": "code",
   "execution_count": 46,
   "metadata": {},
   "outputs": [],
   "source": [
    "features = np.array(tfidf_test.get_feature_names())"
   ]
  },
  {
   "cell_type": "code",
   "execution_count": 47,
   "metadata": {},
   "outputs": [
    {
     "data": {
      "text/plain": [
       "array(['кошек', 'песик', 'собака', 'стол'], dtype='<U6')"
      ]
     },
     "execution_count": 47,
     "metadata": {},
     "output_type": "execute_result"
    }
   ],
   "source": [
    "features"
   ]
  },
  {
   "cell_type": "markdown",
   "metadata": {},
   "source": [
    "2. Расчитываем косинусную близость, импортируем инструмент, считаем."
   ]
  },
  {
   "cell_type": "code",
   "execution_count": 48,
   "metadata": {},
   "outputs": [],
   "source": [
    "from sklearn.metrics.pairwise import cosine_similarity"
   ]
  },
  {
   "cell_type": "code",
   "execution_count": 49,
   "metadata": {},
   "outputs": [],
   "source": [
    "articles_sim = cosine_similarity(articles_tfidf)"
   ]
  },
  {
   "cell_type": "markdown",
   "metadata": {},
   "source": [
    "Сортируем результат для статьи про Токио по убыванию, выводим первые 5 статей."
   ]
  },
  {
   "cell_type": "code",
   "execution_count": 50,
   "metadata": {},
   "outputs": [],
   "source": [
    "rating = articles_sim[0].argsort()[::-1][1:6]"
   ]
  },
  {
   "cell_type": "code",
   "execution_count": 51,
   "metadata": {},
   "outputs": [
    {
     "name": "stdout",
     "output_type": "stream",
     "text": [
      "Топ-5 самых близких к статье \"Токио\" статей.\n",
      "1.Златоуст\n",
      "2.Россия\n",
      "3.Могадишо\n",
      "4.Великая_депрессия\n",
      "5.Аддис-Абеба\n"
     ]
    }
   ],
   "source": [
    "print(f'Топ-5 самых близких к статье \"{article_names[0]}\" статей.')\n",
    "for r, i in enumerate(rating):\n",
    "    print(f'{r + 1}.{article_names[i]}')"
   ]
  },
  {
   "cell_type": "markdown",
   "metadata": {},
   "source": [
    "3. Импортируем seaborn, строим график. Как мне кажется, кластеризация вышла хорошо: в группы собрались города,  исторические события, страны и языки. Великая французская революция рядом с Францией, великая депрессия  – рядом с США. Разве что Сомали оказался ближе к городам, чем к странам."
   ]
  },
  {
   "cell_type": "code",
   "execution_count": 52,
   "metadata": {},
   "outputs": [],
   "source": [
    "import seaborn"
   ]
  },
  {
   "cell_type": "code",
   "execution_count": 53,
   "metadata": {},
   "outputs": [
    {
     "data": {
      "text/plain": [
       "<seaborn.matrix.ClusterGrid at 0x2a3fc2640>"
      ]
     },
     "execution_count": 53,
     "metadata": {},
     "output_type": "execute_result"
    },
    {
     "data": {
      "image/png": "[encoded data removed]",
      "text/plain": [
       "<Figure size 720x720 with 4 Axes>"
      ]
     },
     "metadata": {
      "needs_background": "light"
     },
     "output_type": "display_data"
    }
   ],
   "source": [
    "seaborn.clustermap(\n",
    "    articles_sim,\n",
    "    xticklabels=[article_names[i] for i in range(20)],\n",
    "    yticklabels=[article_names[i] for i in range(20)]\n",
    ")"
   ]
  }
 ],
 "metadata": {
  "kernelspec": {
   "display_name": "Python 3 (ipykernel)",
   "language": "python",
   "name": "python3"
  },
  "language_info": {
   "codemirror_mode": {
    "name": "ipython",
    "version": 3
   },
   "file_extension": ".py",
   "mimetype": "text/x-python",
   "name": "python",
   "nbconvert_exporter": "python",
   "pygments_lexer": "ipython3",
   "version": "3.9.13"
  },
  "vscode": {
   "interpreter": {
    "hash": "b0fa6594d8f4cbf19f97940f81e996739fb7646882a419484c72d19e05852a7e"
   }
  }
 },
 "nbformat": 4,
 "nbformat_minor": 2
}
